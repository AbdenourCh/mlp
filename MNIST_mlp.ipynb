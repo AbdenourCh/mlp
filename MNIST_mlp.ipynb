{
  "nbformat": 4,
  "nbformat_minor": 0,
  "metadata": {
    "colab": {
      "name": "MNIST-mlp.ipynb",
      "provenance": [],
      "collapsed_sections": [],
      "authorship_tag": "ABX9TyP/UmAqDn29L+SSM2YrEbXn"
    },
    "kernelspec": {
      "name": "python3",
      "display_name": "Python 3"
    }
  },
  "cells": [
    {
      "cell_type": "code",
      "metadata": {
        "id": "vNuTiuJWzBgh",
        "colab_type": "code",
        "colab": {}
      },
      "source": [
        "import torch\n",
        "import numpy as np"
      ],
      "execution_count": 0,
      "outputs": []
    },
    {
      "cell_type": "code",
      "metadata": {
        "id": "kbTsKZKqzFBz",
        "colab_type": "code",
        "colab": {}
      },
      "source": [
        "from torchvision import datasets\n",
        "import torchvision.transforms as transforms\n",
        "from torch.utils.data.sampler import SubsetRandomSampler\n",
        "\n",
        "\n",
        "\n",
        "batch_size = 20\n",
        "valid_size = 0.2\n",
        "\n",
        "transform = transforms.Compose([transforms.ToTensor(),\n",
        "                                transforms.Normalize((0.5,), (0.5,))])\n",
        "\n",
        "train_data = datasets.MNIST('~/.pytorch/MNIST_data/', train=True,\n",
        "                                   download=True, transform=transform)\n",
        "test_data = datasets.MNIST('~/.pytorch/MNIST_data/', train=False,\n",
        "                                  download=True, transform=transform)\n",
        "\n",
        "num_train = len(train_data)\n",
        "indices = list(range(num_train))\n",
        "np.random.shuffle(indices)\n",
        "split = int(np.floor(valid_size * num_train))\n",
        "train_idx, valid_idx = indices[split:], indices[:split]\n",
        "\n",
        "train_sampler = SubsetRandomSampler(train_idx)\n",
        "valid_sampler = SubsetRandomSampler(valid_idx)\n",
        "\n",
        "\n",
        "train_loader = torch.utils.data.DataLoader(train_data, batch_size=batch_size,\n",
        "    sampler=train_sampler)\n",
        "valid_loader = torch.utils.data.DataLoader(train_data, batch_size=batch_size, \n",
        "    sampler=valid_sampler)\n",
        "test_loader = torch.utils.data.DataLoader(test_data, batch_size=batch_size)\n"
      ],
      "execution_count": 0,
      "outputs": []
    },
    {
      "cell_type": "code",
      "metadata": {
        "id": "ffcQKFpfzJeP",
        "colab_type": "code",
        "outputId": "e3a91a21-b348-4883-e3ac-9d156d0804f7",
        "colab": {
          "base_uri": "https://localhost:8080/",
          "height": 240
        }
      },
      "source": [
        "import matplotlib.pyplot as plt\n",
        "%matplotlib inline\n",
        "    \n",
        "dataiter = iter(train_loader)\n",
        "images, labels = dataiter.next()\n",
        "images = images.numpy()\n",
        "\n",
        "\n",
        "fig = plt.figure(figsize=(25,4))\n",
        "\n",
        "\n",
        "for idx in np.arange(20):\n",
        "    ax = fig.add_subplot(2, 20/2, idx+1, xticks=[], yticks=[])\n",
        "    ax.imshow(np.squeeze(images[idx]), cmap='gray')\n",
        "    # print out the correct label for each image\n",
        "    # .item() gets the value contained in a Tensor\n",
        "    ax.set_title(str((labels[idx].item())))"
      ],
      "execution_count": 0,
      "outputs": [
        {
          "output_type": "display_data",
          "data": {
            "image/png": "[encoded data removed]",
            "text/plain": [
              "<Figure size 1800x288 with 20 Axes>"
            ]
          },
          "metadata": {
            "tags": []
          }
        }
      ]
    },
    {
      "cell_type": "code",
      "metadata": {
        "id": "T9L8IaU46s7h",
        "colab_type": "code",
        "outputId": "2bd91e8d-2611-4b41-dfc3-6698b4f311d8",
        "colab": {
          "base_uri": "https://localhost:8080/",
          "height": 127
        }
      },
      "source": [
        "import torch.nn as nn\n",
        "import torch.nn.functional as F\n",
        "\n",
        "# define the NN architecture\n",
        "class Network(nn.Module):\n",
        "    def __init__(self):\n",
        "        super(Network, self).__init__()\n",
        "\n",
        "        n_inputs = 28*28\n",
        "        n_hidden_1 = 512\n",
        "        n_hidden_2 = 512\n",
        "        n_outputs = 10\n",
        "\n",
        "\n",
        "        self.fc1 = nn.Linear(n_inputs, n_hidden_1)\n",
        "        self.fc2 = nn.Linear(n_hidden_1, n_hidden_2)\n",
        "        self.fc3 = nn.Linear(n_hidden_2, n_outputs)\n",
        "        self.dropout = nn.Dropout(0.2)\n",
        "\n",
        "    def forward(self, x):\n",
        "\n",
        "        x = x.view(-1, 28 * 28)\n",
        "        x = F.relu(self.fc1(x))\n",
        "        x = self.dropout(x)\n",
        "        x = F.relu(self.fc2(x))\n",
        "        x = self.dropout(x)\n",
        "        x = self.fc3(x)\n",
        "        \n",
        "        return x\n",
        "\n",
        "model = Network()\n",
        "print(model)"
      ],
      "execution_count": 0,
      "outputs": [
        {
          "output_type": "stream",
          "text": [
            "Network(\n",
            "  (fc1): Linear(in_features=784, out_features=512, bias=True)\n",
            "  (fc2): Linear(in_features=512, out_features=512, bias=True)\n",
            "  (fc3): Linear(in_features=512, out_features=10, bias=True)\n",
            "  (dropout): Dropout(p=0.2, inplace=False)\n",
            ")\n"
          ],
          "name": "stdout"
        }
      ]
    },
    {
      "cell_type": "code",
      "metadata": {
        "id": "scQ1k14r66Mp",
        "colab_type": "code",
        "colab": {}
      },
      "source": [
        "criterion = nn.CrossEntropyLoss()\n",
        "optimizer = torch.optim.SGD(model.parameters(), lr=0.01)"
      ],
      "execution_count": 0,
      "outputs": []
    },
    {
      "cell_type": "code",
      "metadata": {
        "id": "0Ix8AFKU9scQ",
        "colab_type": "code",
        "outputId": "5afdaf70-0210-4b29-acfa-1ba04e11a0ae",
        "colab": {
          "base_uri": "https://localhost:8080/",
          "height": 1000
        }
      },
      "source": [
        "n_epochs = 50\n",
        "valid_loss_min = np.Inf \n",
        "\n",
        "for epoch in range(n_epochs):\n",
        "    train_loss = 0.0\n",
        "    valid_loss = 0.0\n",
        "\n",
        "    ###################\n",
        "    # Train The Model #\n",
        "    ###################\n",
        "\n",
        "    model.train() \n",
        "    for data, target in train_loader:\n",
        "        optimizer.zero_grad()\n",
        "        output = model(data)\n",
        "        loss = criterion(output, target)\n",
        "        loss.backward()\n",
        "        optimizer.step()\n",
        "        train_loss += loss.item()*data.size(0)\n",
        "        \n",
        "    ######################\n",
        "    # Validate The Model #\n",
        "    ######################\n",
        "\n",
        "    model.eval() \n",
        "    for data, target in valid_loader:\n",
        "        output = model(data)\n",
        "        loss = criterion(output, target)\n",
        "        valid_loss += loss.item()*data.size(0)\n",
        "\n",
        "\n",
        "    train_loss = train_loss/len(train_loader.sampler)\n",
        "    valid_loss = valid_loss/len(valid_loader.sampler)\n",
        "    \n",
        "    print('Epoch: {} \\tTraining Loss: {:.6f} \\tValidation Loss: {:.6f}'.format(\n",
        "        epoch+1, \n",
        "        train_loss,\n",
        "        valid_loss\n",
        "        ))\n",
        "    \n",
        "    if valid_loss <= valid_loss_min:\n",
        "        print('Validation loss decreased ({:.6f} --> {:.6f}).  Saving model ...'.format(\n",
        "        valid_loss_min,\n",
        "        valid_loss))\n",
        "        torch.save(model.state_dict(), 'model.pt')\n",
        "        valid_loss_min = valid_loss"
      ],
      "execution_count": 0,
      "outputs": [
        {
          "output_type": "stream",
          "text": [
            "Epoch: 1 \tTraining Loss: 0.629663 \tValidation Loss: 0.308309\n",
            "Validation loss decreased (inf --> 0.308309).  Saving model ...\n",
            "Epoch: 2 \tTraining Loss: 0.292958 \tValidation Loss: 0.234967\n",
            "Validation loss decreased (0.308309 --> 0.234967).  Saving model ...\n",
            "Epoch: 3 \tTraining Loss: 0.225406 \tValidation Loss: 0.209879\n",
            "Validation loss decreased (0.234967 --> 0.209879).  Saving model ...\n",
            "Epoch: 4 \tTraining Loss: 0.183222 \tValidation Loss: 0.156405\n",
            "Validation loss decreased (0.209879 --> 0.156405).  Saving model ...\n",
            "Epoch: 5 \tTraining Loss: 0.154762 \tValidation Loss: 0.135187\n",
            "Validation loss decreased (0.156405 --> 0.135187).  Saving model ...\n",
            "Epoch: 6 \tTraining Loss: 0.134235 \tValidation Loss: 0.121341\n",
            "Validation loss decreased (0.135187 --> 0.121341).  Saving model ...\n",
            "Epoch: 7 \tTraining Loss: 0.118047 \tValidation Loss: 0.111329\n",
            "Validation loss decreased (0.121341 --> 0.111329).  Saving model ...\n",
            "Epoch: 8 \tTraining Loss: 0.106053 \tValidation Loss: 0.100472\n",
            "Validation loss decreased (0.111329 --> 0.100472).  Saving model ...\n",
            "Epoch: 9 \tTraining Loss: 0.096215 \tValidation Loss: 0.093720\n",
            "Validation loss decreased (0.100472 --> 0.093720).  Saving model ...\n",
            "Epoch: 10 \tTraining Loss: 0.087764 \tValidation Loss: 0.089417\n",
            "Validation loss decreased (0.093720 --> 0.089417).  Saving model ...\n",
            "Epoch: 11 \tTraining Loss: 0.082386 \tValidation Loss: 0.089190\n",
            "Validation loss decreased (0.089417 --> 0.089190).  Saving model ...\n",
            "Epoch: 12 \tTraining Loss: 0.077408 \tValidation Loss: 0.081974\n",
            "Validation loss decreased (0.089190 --> 0.081974).  Saving model ...\n",
            "Epoch: 13 \tTraining Loss: 0.068716 \tValidation Loss: 0.078132\n",
            "Validation loss decreased (0.081974 --> 0.078132).  Saving model ...\n",
            "Epoch: 14 \tTraining Loss: 0.063785 \tValidation Loss: 0.077026\n",
            "Validation loss decreased (0.078132 --> 0.077026).  Saving model ...\n",
            "Epoch: 15 \tTraining Loss: 0.060910 \tValidation Loss: 0.086062\n",
            "Epoch: 16 \tTraining Loss: 0.056029 \tValidation Loss: 0.074938\n",
            "Validation loss decreased (0.077026 --> 0.074938).  Saving model ...\n",
            "Epoch: 17 \tTraining Loss: 0.052797 \tValidation Loss: 0.072684\n",
            "Validation loss decreased (0.074938 --> 0.072684).  Saving model ...\n",
            "Epoch: 18 \tTraining Loss: 0.050744 \tValidation Loss: 0.074303\n",
            "Epoch: 19 \tTraining Loss: 0.046725 \tValidation Loss: 0.072606\n",
            "Validation loss decreased (0.072684 --> 0.072606).  Saving model ...\n",
            "Epoch: 20 \tTraining Loss: 0.044010 \tValidation Loss: 0.077503\n",
            "Epoch: 21 \tTraining Loss: 0.043423 \tValidation Loss: 0.072168\n",
            "Validation loss decreased (0.072606 --> 0.072168).  Saving model ...\n",
            "Epoch: 22 \tTraining Loss: 0.040324 \tValidation Loss: 0.068976\n",
            "Validation loss decreased (0.072168 --> 0.068976).  Saving model ...\n",
            "Epoch: 23 \tTraining Loss: 0.037067 \tValidation Loss: 0.066632\n",
            "Validation loss decreased (0.068976 --> 0.066632).  Saving model ...\n",
            "Epoch: 24 \tTraining Loss: 0.036078 \tValidation Loss: 0.072249\n",
            "Epoch: 25 \tTraining Loss: 0.033218 \tValidation Loss: 0.065644\n",
            "Validation loss decreased (0.066632 --> 0.065644).  Saving model ...\n",
            "Epoch: 26 \tTraining Loss: 0.032542 \tValidation Loss: 0.064994\n",
            "Validation loss decreased (0.065644 --> 0.064994).  Saving model ...\n",
            "Epoch: 27 \tTraining Loss: 0.031320 \tValidation Loss: 0.068214\n",
            "Epoch: 28 \tTraining Loss: 0.028890 \tValidation Loss: 0.071776\n",
            "Epoch: 29 \tTraining Loss: 0.028714 \tValidation Loss: 0.064672\n",
            "Validation loss decreased (0.064994 --> 0.064672).  Saving model ...\n",
            "Epoch: 30 \tTraining Loss: 0.025699 \tValidation Loss: 0.072890\n",
            "Epoch: 31 \tTraining Loss: 0.025348 \tValidation Loss: 0.065281\n",
            "Epoch: 32 \tTraining Loss: 0.023455 \tValidation Loss: 0.062657\n",
            "Validation loss decreased (0.064672 --> 0.062657).  Saving model ...\n",
            "Epoch: 33 \tTraining Loss: 0.022383 \tValidation Loss: 0.068431\n",
            "Epoch: 34 \tTraining Loss: 0.021659 \tValidation Loss: 0.068486\n",
            "Epoch: 35 \tTraining Loss: 0.021412 \tValidation Loss: 0.067544\n",
            "Epoch: 36 \tTraining Loss: 0.019703 \tValidation Loss: 0.066633\n",
            "Epoch: 37 \tTraining Loss: 0.019225 \tValidation Loss: 0.065255\n",
            "Epoch: 38 \tTraining Loss: 0.017575 \tValidation Loss: 0.064480\n",
            "Epoch: 39 \tTraining Loss: 0.016618 \tValidation Loss: 0.062579\n",
            "Validation loss decreased (0.062657 --> 0.062579).  Saving model ...\n",
            "Epoch: 40 \tTraining Loss: 0.017136 \tValidation Loss: 0.067352\n",
            "Epoch: 41 \tTraining Loss: 0.016271 \tValidation Loss: 0.071880\n",
            "Epoch: 42 \tTraining Loss: 0.015783 \tValidation Loss: 0.064684\n",
            "Epoch: 43 \tTraining Loss: 0.016428 \tValidation Loss: 0.063571\n",
            "Epoch: 44 \tTraining Loss: 0.014478 \tValidation Loss: 0.066221\n",
            "Epoch: 45 \tTraining Loss: 0.014772 \tValidation Loss: 0.060684\n",
            "Validation loss decreased (0.062579 --> 0.060684).  Saving model ...\n",
            "Epoch: 46 \tTraining Loss: 0.014168 \tValidation Loss: 0.066868\n",
            "Epoch: 47 \tTraining Loss: 0.012840 \tValidation Loss: 0.063230\n",
            "Epoch: 48 \tTraining Loss: 0.012123 \tValidation Loss: 0.065314\n",
            "Epoch: 49 \tTraining Loss: 0.011380 \tValidation Loss: 0.062701\n",
            "Epoch: 50 \tTraining Loss: 0.011388 \tValidation Loss: 0.065040\n"
          ],
          "name": "stdout"
        }
      ]
    },
    {
      "cell_type": "code",
      "metadata": {
        "id": "KINwaH2DN68n",
        "colab_type": "code",
        "outputId": "af417104-f0f8-419b-918c-bca8e96b1ec8",
        "colab": {
          "base_uri": "https://localhost:8080/",
          "height": 35
        }
      },
      "source": [
        "model.load_state_dict(torch.load('model.pt'))"
      ],
      "execution_count": 0,
      "outputs": [
        {
          "output_type": "execute_result",
          "data": {
            "text/plain": [
              "<All keys matched successfully>"
            ]
          },
          "metadata": {
            "tags": []
          },
          "execution_count": 44
        }
      ]
    },
    {
      "cell_type": "code",
      "metadata": {
        "id": "RTYNgN0TBRAP",
        "colab_type": "code",
        "outputId": "ad340425-6265-46ed-fa94-8319920c5b95",
        "colab": {
          "base_uri": "https://localhost:8080/",
          "height": 274
        }
      },
      "source": [
        "test_loss = 0.0\n",
        "class_correct = list(0. for i in range(10))\n",
        "class_total = list(0. for i in range(10))\n",
        "\n",
        "model.eval() \n",
        "\n",
        "for data, target in test_loader:\n",
        "\n",
        "    output = model(data)\n",
        "    loss = criterion(output, target)\n",
        "    test_loss += loss.item()*data.size(0)\n",
        "    _, pred = torch.max(output, 1)\n",
        "    correct = np.squeeze(pred.eq(target.data.view_as(pred)))\n",
        "\n",
        "\n",
        "    for i in range(len(target)):\n",
        "        label = target.data[i]\n",
        "        class_correct[label] += correct[i].item()\n",
        "        class_total[label] += 1\n",
        "\n",
        "test_loss = test_loss/len(test_loader.sampler)\n",
        "print('Test Loss: {:.6f}\\n'.format(test_loss))\n",
        "\n",
        "for i in range(10):\n",
        "    if class_total[i] > 0:\n",
        "        print('Test Accuracy of %5s: %2d%% (%2d/%2d)' % (\n",
        "            str(i), 100 * class_correct[i] / class_total[i],\n",
        "            np.sum(class_correct[i]), np.sum(class_total[i])))\n",
        "    else:\n",
        "        print('Test Accuracy of %5s: N/A (no training examples)' % (classes[i]))\n",
        "\n",
        "print('\\nTest Accuracy (Overall): %2d%% (%2d/%2d)' % (\n",
        "    100. * np.sum(class_correct) / np.sum(class_total),\n",
        "    np.sum(class_correct), np.sum(class_total)))"
      ],
      "execution_count": 0,
      "outputs": [
        {
          "output_type": "stream",
          "text": [
            "Test Loss: 0.057037\n",
            "\n",
            "Test Accuracy of     0: 98% (966/980)\n",
            "Test Accuracy of     1: 99% (1127/1135)\n",
            "Test Accuracy of     2: 98% (1020/1032)\n",
            "Test Accuracy of     3: 98% (998/1010)\n",
            "Test Accuracy of     4: 98% (964/982)\n",
            "Test Accuracy of     5: 97% (871/892)\n",
            "Test Accuracy of     6: 98% (943/958)\n",
            "Test Accuracy of     7: 97% (1006/1028)\n",
            "Test Accuracy of     8: 98% (961/974)\n",
            "Test Accuracy of     9: 97% (984/1009)\n",
            "\n",
            "Test Accuracy (Overall): 98% (9840/10000)\n"
          ],
          "name": "stdout"
        }
      ]
    },
    {
      "cell_type": "code",
      "metadata": {
        "id": "cYlI_YeVFkIZ",
        "colab_type": "code",
        "outputId": "c972a75b-ec80-4a59-cc6d-d7efe985ec26",
        "colab": {
          "base_uri": "https://localhost:8080/",
          "height": 259
        }
      },
      "source": [
        "dataiter = iter(test_loader)\n",
        "images, labels = dataiter.next()\n",
        "\n",
        "output = model(images)\n",
        "_, preds = torch.max(output, 1)\n",
        "images = images.numpy()\n",
        "\n",
        "fig = plt.figure(figsize=(25, 4))\n",
        "\n",
        "print(len(images))\n",
        "\n",
        "for idx in np.arange(20):\n",
        "    ax = fig.add_subplot(2, 20/2, idx+1, xticks=[], yticks=[])\n",
        "    ax.imshow(np.squeeze(images[idx]), cmap='gray')\n",
        "    ax.set_title(\"{} ({})\".format(str(preds[idx].item()), str(labels[idx].item())),\n",
        "                 color=(\"green\" if preds[idx]==labels[idx] else \"red\"))"
      ],
      "execution_count": 0,
      "outputs": [
        {
          "output_type": "stream",
          "text": [
            "20\n"
          ],
          "name": "stdout"
        },
        {
          "output_type": "display_data",
          "data": {
            "image/png": "[encoded data removed]",
            "text/plain": [
              "<Figure size 1800x288 with 20 Axes>"
            ]
          },
          "metadata": {
            "tags": []
          }
        }
      ]
    }
  ]
}